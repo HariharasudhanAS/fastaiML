{
 "cells": [
  {
   "cell_type": "code",
   "execution_count": 1,
   "metadata": {},
   "outputs": [],
   "source": [
    "%load_ext autoreload\n",
    "%autoreload 2\n",
    "%matplotlib inline"
   ]
  },
  {
   "cell_type": "code",
   "execution_count": 2,
   "metadata": {},
   "outputs": [],
   "source": [
    "from fastai.imports import *\n",
    "from fastai.torch_imports import *\n",
    "from fastai.io import *"
   ]
  },
  {
   "cell_type": "code",
   "execution_count": 3,
   "metadata": {},
   "outputs": [
    {
     "name": "stdout",
     "output_type": "stream",
     "text": [
      "--2018-12-11 10:54:09--  http://deeplearning.net/data/mnist/mnist.pkl.gz\n",
      "Resolving deeplearning.net (deeplearning.net)... 132.204.26.28\n",
      "Connecting to deeplearning.net (deeplearning.net)|132.204.26.28|:80... connected.\n",
      "HTTP request sent, awaiting response... 200 OK\n",
      "Length: 16168813 (15M) [application/x-gzip]\n",
      "Saving to: ‘mnist.pkl.gz.1’\n",
      "\n",
      "mnist.pkl.gz.1      100%[===================>]  15.42M   161KB/s    in 51s     \n",
      "\n",
      "2018-12-11 10:55:03 (307 KB/s) - ‘mnist.pkl.gz.1’ saved [16168813/16168813]\n",
      "\n"
     ]
    }
   ],
   "source": [
    "!wget http://deeplearning.net/data/mnist/mnist.pkl.gz"
   ]
  },
  {
   "cell_type": "code",
   "execution_count": 4,
   "metadata": {},
   "outputs": [],
   "source": [
    "((x, y), (x_valid, y_valid), _) = pickle.load(gzip.open('./mnist.pkl.gz', 'rb'), encoding='latin-1')"
   ]
  },
  {
   "cell_type": "code",
   "execution_count": 5,
   "metadata": {},
   "outputs": [
    {
     "data": {
      "text/plain": [
       "((50000, 784), (50000,))"
      ]
     },
     "execution_count": 5,
     "metadata": {},
     "output_type": "execute_result"
    }
   ],
   "source": [
    "x.shape, y.shape"
   ]
  },
  {
   "cell_type": "code",
   "execution_count": 6,
   "metadata": {},
   "outputs": [],
   "source": [
    "mean = x.mean()\n",
    "std = x.std()\n",
    "\n",
    "x = (x-mean)/std\n",
    "x_valid = (x_valid-mean)/std"
   ]
  },
  {
   "cell_type": "code",
   "execution_count": 7,
   "metadata": {},
   "outputs": [],
   "source": [
    "def show(img, title=None):\n",
    "    plt.imshow(img, cmap='gray')\n",
    "    if title is not None: plt.title(title)"
   ]
  },
  {
   "cell_type": "code",
   "execution_count": 8,
   "metadata": {},
   "outputs": [],
   "source": [
    "def plots(ims, figsize=(12,6), rows=2, titles=None):\n",
    "    f = plt.figure(figsize=figsize)\n",
    "    cols = len(ims)//rows #len() returns first dimensiion\n",
    "    for i in range(len(ims)):\n",
    "        sp = f.add_subplot(rows, cols, i+1)\n",
    "        sp.axis('Off')\n",
    "        if titles is not None: sp.set_title(titles[i], fontsize=16)\n",
    "        plt.imshow(ims[i], cmap='gray')"
   ]
  },
  {
   "cell_type": "code",
   "execution_count": 9,
   "metadata": {},
   "outputs": [
    {
     "data": {
      "text/plain": [
       "(10000, 28, 28)"
      ]
     },
     "execution_count": 9,
     "metadata": {},
     "output_type": "execute_result"
    }
   ],
   "source": [
    "x_imgs = x_valid.reshape((-1,28,28)); x_imgs.shape"
   ]
  },
  {
   "cell_type": "code",
   "execution_count": 10,
   "metadata": {},
   "outputs": [
    {
     "data": {
      "image/png": "[encoded data removed]",
      "text/plain": [
       "<Figure size 432x288 with 1 Axes>"
      ]
     },
     "metadata": {
      "needs_background": "light"
     },
     "output_type": "display_data"
    }
   ],
   "source": [
    "show(x_imgs[0], y_valid[0])"
   ]
  },
  {
   "cell_type": "code",
   "execution_count": 11,
   "metadata": {},
   "outputs": [
    {
     "data": {
      "image/png": "[encoded data removed]",
      "text/plain": [
       "<Figure size 432x288 with 1 Axes>"
      ]
     },
     "metadata": {
      "needs_background": "light"
     },
     "output_type": "display_data"
    }
   ],
   "source": [
    "show(x_imgs[0,20:28,10:15])"
   ]
  },
  {
   "cell_type": "code",
   "execution_count": 12,
   "metadata": {},
   "outputs": [
    {
     "data": {
      "image/png": "[encoded data removed]",
      "text/plain": [
       "<Figure size 864x432 with 10 Axes>"
      ]
     },
     "metadata": {
      "needs_background": "light"
     },
     "output_type": "display_data"
    }
   ],
   "source": [
    "plots(x_imgs[:10], rows=2, titles=y_valid[:10])"
   ]
  },
  {
   "cell_type": "markdown",
   "metadata": {},
   "source": [
    "### Neural network"
   ]
  },
  {
   "cell_type": "code",
   "execution_count": 13,
   "metadata": {},
   "outputs": [],
   "source": [
    "from fastai.metrics import *\n",
    "from fastai.model import *\n",
    "from fastai.dataset import *\n",
    "\n",
    "import torch.nn as nn"
   ]
  },
  {
   "cell_type": "code",
   "execution_count": 14,
   "metadata": {},
   "outputs": [],
   "source": [
    "net = nn.Sequential(\n",
    "    nn.Linear(28*28,100),\n",
    "    nn.ReLU(),\n",
    "    nn.Linear(100,100),\n",
    "    nn.ReLU(),\n",
    "    nn.Linear(100,10),\n",
    "    nn.LogSoftmax()\n",
    ")"
   ]
  },
  {
   "cell_type": "code",
   "execution_count": 15,
   "metadata": {},
   "outputs": [],
   "source": [
    "md = ImageClassifierData.from_arrays('./', (x,y), (x_valid, y_valid))"
   ]
  },
  {
   "cell_type": "code",
   "execution_count": 16,
   "metadata": {},
   "outputs": [],
   "source": [
    "loss = nn.NLLLoss()\n",
    "metrics = [accuracy]\n",
    "opt = optim.SGD(net.parameters(), 1e-1, momentum=0.9, weight_decay=1e-3)"
   ]
  },
  {
   "cell_type": "code",
   "execution_count": 17,
   "metadata": {},
   "outputs": [],
   "source": [
    "set_lrs(opt, 1e-2)"
   ]
  },
  {
   "cell_type": "code",
   "execution_count": 18,
   "metadata": {
    "scrolled": false
   },
   "outputs": [
    {
     "data": {
      "application/vnd.jupyter.widget-view+json": {
       "model_id": "83d56304afcf4689a5b51a6160d7cb3f",
       "version_major": 2,
       "version_minor": 0
      },
      "text/plain": [
       "HBox(children=(IntProgress(value=0, description='Epoch', max=5, style=ProgressStyle(description_width='initial…"
      ]
     },
     "metadata": {},
     "output_type": "display_data"
    },
    {
     "name": "stdout",
     "output_type": "stream",
     "text": [
      "epoch      trn_loss   val_loss   accuracy                     \n",
      "    0      0.194471   0.152285   0.9564    \n",
      "    1      0.115262   0.11359    0.9666                       \n",
      "    2      0.081599   0.106739   0.9675                        \n",
      "    3      0.076181   0.091871   0.972                         \n",
      "    4      0.065084   0.090369   0.973                         \n",
      "\n"
     ]
    }
   ],
   "source": [
    "fit(net, md, n_epochs=5, crit=loss, opt=opt, metrics=metrics);"
   ]
  },
  {
   "cell_type": "code",
   "execution_count": 19,
   "metadata": {},
   "outputs": [],
   "source": [
    "??set_lrs"
   ]
  },
  {
   "cell_type": "code",
   "execution_count": 20,
   "metadata": {},
   "outputs": [],
   "source": [
    "def get_weights(*dims): return nn.Parameter(torch.randn(dims)/dims[0])"
   ]
  },
  {
   "cell_type": "code",
   "execution_count": 21,
   "metadata": {},
   "outputs": [],
   "source": [
    "class LogReg(nn.Module):\n",
    "    def __init__(self):\n",
    "        super().__init__()\n",
    "        self.l1_w = get_weights(28*28, 10)\n",
    "        self.l1_b = get_weights(10)\n",
    "        \n",
    "    def forward(self, x):\n",
    "        x = x.view(x.size(0), -1)\n",
    "        x = torch.matmul(x, self.l1_w) + self.l1_b\n",
    "        x = torch.log(torch.exp(x)/(torch.exp(x).sum(dim=0)))\n",
    "        return x"
   ]
  },
  {
   "cell_type": "code",
   "execution_count": 22,
   "metadata": {},
   "outputs": [],
   "source": [
    "net2 = LogReg()"
   ]
  },
  {
   "cell_type": "code",
   "execution_count": 23,
   "metadata": {},
   "outputs": [],
   "source": [
    "opt = optim.Adam(net2.parameters())"
   ]
  },
  {
   "cell_type": "code",
   "execution_count": 24,
   "metadata": {},
   "outputs": [
    {
     "data": {
      "application/vnd.jupyter.widget-view+json": {
       "model_id": "8795c8b7e3cc42a48e2e267936154b4f",
       "version_major": 2,
       "version_minor": 0
      },
      "text/plain": [
       "HBox(children=(IntProgress(value=0, description='Epoch', max=1, style=ProgressStyle(description_width='initial…"
      ]
     },
     "metadata": {},
     "output_type": "display_data"
    },
    {
     "name": "stdout",
     "output_type": "stream",
     "text": [
      "epoch      trn_loss   val_loss   accuracy                    \n",
      "    0      2.440928   2.411295   0.9095    \n",
      "\n"
     ]
    },
    {
     "data": {
      "text/plain": [
       "[array([2.4113]), 0.9095]"
      ]
     },
     "execution_count": 24,
     "metadata": {},
     "output_type": "execute_result"
    }
   ],
   "source": [
    "fit(net2, md, n_epochs=1, crit=loss, opt=opt, metrics=metrics)"
   ]
  },
  {
   "cell_type": "code",
   "execution_count": 25,
   "metadata": {},
   "outputs": [],
   "source": [
    "dl = iter(md.trn_dl)"
   ]
  },
  {
   "cell_type": "code",
   "execution_count": 26,
   "metadata": {},
   "outputs": [],
   "source": [
    "xmb, ymb = next(dl)"
   ]
  },
  {
   "cell_type": "code",
   "execution_count": 27,
   "metadata": {},
   "outputs": [
    {
     "data": {
      "text/plain": [
       "\n",
       "-0.4245 -0.4245 -0.4245  ...  -0.4245 -0.4245 -0.4245\n",
       "-0.4245 -0.4245 -0.4245  ...  -0.4245 -0.4245 -0.4245\n",
       "-0.4245 -0.4245 -0.4245  ...  -0.4245 -0.4245 -0.4245\n",
       "          ...             ⋱             ...          \n",
       "-0.4245 -0.4245 -0.4245  ...  -0.4245 -0.4245 -0.4245\n",
       "-0.4245 -0.4245 -0.4245  ...  -0.4245 -0.4245 -0.4245\n",
       "-0.4245 -0.4245 -0.4245  ...  -0.4245 -0.4245 -0.4245\n",
       "[torch.FloatTensor of size 64x784]"
      ]
     },
     "execution_count": 27,
     "metadata": {},
     "output_type": "execute_result"
    }
   ],
   "source": [
    "xmb"
   ]
  },
  {
   "cell_type": "markdown",
   "metadata": {},
   "source": [
    "<b>Note: </b>Inbuild data reader in fastai uses mini-batch size of 64"
   ]
  },
  {
   "cell_type": "code",
   "execution_count": 28,
   "metadata": {},
   "outputs": [
    {
     "data": {
      "text/plain": [
       "Variable containing:\n",
       "-0.4245 -0.4245 -0.4245  ...  -0.4245 -0.4245 -0.4245\n",
       "-0.4245 -0.4245 -0.4245  ...  -0.4245 -0.4245 -0.4245\n",
       "-0.4245 -0.4245 -0.4245  ...  -0.4245 -0.4245 -0.4245\n",
       "          ...             ⋱             ...          \n",
       "-0.4245 -0.4245 -0.4245  ...  -0.4245 -0.4245 -0.4245\n",
       "-0.4245 -0.4245 -0.4245  ...  -0.4245 -0.4245 -0.4245\n",
       "-0.4245 -0.4245 -0.4245  ...  -0.4245 -0.4245 -0.4245\n",
       "[torch.FloatTensor of size 64x784]"
      ]
     },
     "execution_count": 28,
     "metadata": {},
     "output_type": "execute_result"
    }
   ],
   "source": [
    "vxmb = Variable(xmb)\n",
    "vxmb"
   ]
  },
  {
   "cell_type": "code",
   "execution_count": 30,
   "metadata": {},
   "outputs": [
    {
     "data": {
      "text/plain": [
       "Variable containing:\n",
       "\n",
       "Columns 0 to 5 \n",
       " 1.0866e-04  1.9281e-06  1.4355e-04  2.2922e-05  2.2923e-04  6.0590e-04\n",
       " 5.9632e-04  3.7857e-03  7.8332e-04  7.0754e-03  2.0736e-03  3.2076e-02\n",
       " 8.0251e-04  1.2730e-02  8.5544e-03  8.1373e-03  1.0541e-03  1.1919e-02\n",
       " 1.1902e-03  1.4247e-03  1.3543e-03  4.5375e-02  7.7835e-04  4.4165e-03\n",
       " 3.1345e-04  6.9316e-04  1.9294e-03  2.1231e-03  4.5100e-03  1.9038e-03\n",
       " 4.2373e-03  3.0771e-04  4.2802e-04  3.1726e-01  1.8457e-04  2.2782e-02\n",
       " 8.6995e-04  2.2788e-05  7.2235e-06  8.1341e-03  7.8657e-03  6.0227e-02\n",
       " 1.2605e-03  1.2139e-04  6.6753e-03  3.3179e-04  4.2908e-04  2.7326e-03\n",
       " 1.5416e-03  1.9234e-06  1.9671e-03  8.7426e-05  1.6951e-01  5.1540e-04\n",
       " 1.1587e-04  2.5103e-01  4.2614e-03  3.4934e-03  1.9080e-03  2.2836e-03\n",
       " 2.5007e-03  1.4795e-03  9.3980e-04  1.9501e-03  2.4693e-03  1.5460e-01\n",
       " 4.4563e-05  2.6780e-04  5.8364e-04  2.4437e-03  7.6685e-04  1.0526e-03\n",
       " 1.8360e-03  4.1513e-06  5.0354e-02  4.9219e-03  2.7546e-04  6.0382e-04\n",
       " 8.0820e-04  1.4573e-03  1.0914e-03  6.8279e-03  2.4929e-03  3.8236e-02\n",
       " 4.3133e-03  1.4921e-02  8.4758e-03  7.9116e-02  2.0563e-04  2.2865e-02\n",
       " 9.9110e-05  7.9319e-06  2.0752e-04  1.3420e-03  3.4494e-01  1.9009e-03\n",
       " 3.6743e-05  1.3988e-06  1.0836e-04  2.6546e-04  1.0266e-04  1.8537e-03\n",
       " 8.4428e-05  1.0615e-03  1.2173e-01  1.5188e-03  3.3053e-04  1.3241e-03\n",
       " 8.8772e-05  3.0621e-05  3.4431e-01  1.9021e-04  1.7541e-06  1.3542e-05\n",
       " 1.5948e-01  6.0620e-08  6.9711e-05  1.4144e-03  1.3553e-03  1.7078e-02\n",
       " 5.5008e-03  4.4869e-04  3.9832e-05  4.6712e-02  1.0790e-03  6.3731e-02\n",
       " 3.6932e-05  3.2918e-04  8.6540e-05  2.7816e-03  1.4555e-02  3.0391e-03\n",
       " 1.1913e-03  7.8200e-05  5.9799e-03  1.0014e-01  2.7711e-04  4.3586e-03\n",
       " 2.8011e-04  8.3266e-06  2.0245e-02  1.5730e-02  2.5706e-02  9.6357e-04\n",
       " 3.0780e-03  5.2053e-04  2.6271e-03  7.4029e-03  7.4719e-02  6.6068e-03\n",
       " 1.1867e-02  9.0169e-08  8.4781e-02  1.3064e-02  5.3208e-07  1.1763e-05\n",
       " 7.6677e-06  8.0680e-07  5.6601e-07  2.7967e-04  1.2977e-04  1.4053e-04\n",
       " 4.7957e-03  5.9787e-03  4.7826e-03  6.8252e-03  1.2017e-03  6.4646e-02\n",
       " 2.7034e-03  7.5705e-09  1.3201e-02  2.4665e-03  3.1536e-06  8.9212e-04\n",
       " 1.0218e-01  5.3068e-08  4.3823e-05  1.7260e-04  6.1520e-05  3.5892e-02\n",
       " 6.6832e-04  5.6246e-06  1.2124e-04  8.0469e-02  5.4006e-04  4.2451e-02\n",
       " 3.4937e-03  8.1571e-05  2.6095e-03  1.6692e-03  1.8171e-03  2.2467e-03\n",
       " 1.4680e-03  7.8930e-08  1.0694e-03  6.9562e-03  9.0325e-04  5.7364e-04\n",
       " 5.2674e-04  1.2283e-05  4.6506e-02  2.3531e-04  7.2699e-06  1.9010e-04\n",
       " 6.8903e-03  3.0292e-02  2.0732e-02  1.8344e-02  2.3093e-04  1.5449e-02\n",
       " 1.3328e-01  5.8823e-07  1.1172e-03  1.3580e-03  8.4988e-06  7.4953e-03\n",
       " 1.2023e-01  5.8005e-07  8.3309e-04  4.8627e-06  4.0642e-04  2.7831e-05\n",
       " 2.4459e-04  1.7234e-01  6.4002e-03  6.7176e-03  9.8959e-03  2.4885e-03\n",
       " 1.8372e-04  4.7736e-07  1.1991e-04  2.4116e-05  3.3900e-02  2.5194e-03\n",
       " 1.2281e-04  4.4996e-06  7.5913e-05  6.4190e-03  4.8272e-03  1.7726e-02\n",
       " 3.5720e-05  1.3387e-03  4.9041e-04  3.5245e-03  4.8940e-04  3.6193e-04\n",
       " 3.3531e-05  3.4870e-05  8.2894e-05  7.8199e-04  1.7940e-03  3.3708e-04\n",
       " 6.0014e-05  1.1665e-04  1.6556e-04  2.3770e-03  8.3311e-03  5.5961e-03\n",
       " 2.9104e-05  6.7001e-05  2.7392e-04  7.0861e-05  1.8638e-02  7.7292e-05\n",
       " 1.2371e-04  4.5006e-03  5.4191e-04  6.6013e-03  6.7781e-02  1.8396e-02\n",
       " 2.5335e-02  1.9187e-06  2.1602e-02  4.2396e-04  5.6175e-05  6.4537e-02\n",
       " 1.1344e-04  1.2308e-04  2.5208e-04  7.0324e-04  1.5832e-02  1.1181e-03\n",
       " 2.4183e-04  1.4406e-04  3.0542e-03  5.1341e-04  1.7633e-03  1.7072e-04\n",
       " 4.6741e-04  3.1140e-05  5.2216e-05  1.8249e-03  1.2223e-02  4.7636e-03\n",
       " 3.7896e-04  2.5424e-01  1.8855e-03  8.8315e-03  1.0023e-03  1.0952e-02\n",
       " 7.3675e-05  2.4688e-04  4.0416e-03  1.9842e-02  2.8262e-02  2.9249e-03\n",
       " 1.0112e-04  5.5526e-04  7.6329e-02  1.0419e-03  2.5963e-05  1.2139e-03\n",
       " 2.3983e-04  4.1638e-05  8.3851e-02  7.0636e-04  7.4227e-04  1.1624e-03\n",
       " 1.6726e-04  7.8474e-05  5.2019e-05  1.4388e-04  1.3617e-04  5.6666e-02\n",
       " 4.8326e-04  2.4618e-04  2.2562e-03  1.3264e-03  1.1238e-02  3.8001e-03\n",
       " 1.2382e-03  1.1256e-04  4.1532e-04  4.3286e-02  2.5408e-02  1.1771e-01\n",
       " 2.1519e-01  1.7716e-08  5.1954e-05  1.7468e-04  6.3248e-06  4.5147e-03\n",
       " 8.9941e-04  5.8557e-04  4.8339e-04  1.1738e-03  1.9263e-02  1.6789e-03\n",
       " 3.5980e-05  1.3216e-03  2.7482e-03  8.3516e-02  5.4496e-02  2.9192e-02\n",
       " 1.6475e-03  1.1487e-05  2.6646e-03  1.0670e-03  5.6840e-04  9.5367e-03\n",
       " 1.0824e-04  2.3674e-01  9.8420e-03  5.2751e-03  5.5896e-04  1.4138e-03\n",
       " 9.2156e-04  1.0447e-05  2.0246e-02  1.4436e-03  1.1984e-02  3.1167e-04\n",
       " 1.7295e-01  2.5081e-06  3.1862e-03  2.9287e-03  1.5526e-04  1.1965e-02\n",
       " 5.0837e-05  9.1459e-06  8.1491e-05  2.6195e-03  7.4932e-03  1.1660e-03\n",
       "\n",
       "Columns 6 to 9 \n",
       " 3.0023e-04  6.1116e-04  3.7018e-03  7.2487e-04\n",
       " 4.3735e-05  4.8166e-05  1.0632e-01  1.7851e-04\n",
       " 1.3776e-01  1.4113e-05  1.0450e-02  3.4581e-04\n",
       " 1.0242e-04  7.1036e-04  6.6575e-02  3.1020e-03\n",
       " 6.4929e-05  1.4911e-04  1.5152e-01  3.2512e-03\n",
       " 9.1927e-04  2.6450e-04  6.5159e-04  3.0997e-04\n",
       " 1.1006e-05  1.9704e-03  5.0626e-04  1.3478e-02\n",
       " 8.0441e-02  8.0031e-06  1.7090e-03  1.2179e-06\n",
       " 1.0695e-03  5.6148e-04  1.9444e-03  3.6870e-03\n",
       " 6.1784e-04  3.2202e-03  1.0952e-02  8.8601e-04\n",
       " 1.6782e-06  3.7150e-03  1.8988e-03  1.3056e-04\n",
       " 9.1754e-06  2.1296e-01  1.0908e-03  1.1278e-02\n",
       " 1.2638e-03  4.7213e-06  8.2996e-05  1.2336e-05\n",
       " 1.1835e-02  5.7505e-05  5.3979e-02  1.8903e-04\n",
       " 4.5334e-03  2.1523e-04  2.9440e-03  1.4180e-04\n",
       " 3.9435e-04  3.2941e-03  2.4532e-03  5.5451e-03\n",
       " 1.6634e-01  3.4556e-08  9.0966e-04  3.2863e-05\n",
       " 1.2319e-04  2.0517e-04  7.7884e-03  8.4987e-04\n",
       " 7.0622e-04  2.9585e-07  4.7371e-05  7.4309e-08\n",
       " 6.5019e-05  7.1916e-05  4.4565e-04  2.6853e-04\n",
       " 2.9471e-05  6.0333e-06  3.6511e-03  7.6610e-06\n",
       " 1.9303e-04  8.2859e-03  2.4570e-03  1.1813e-01\n",
       " 1.2023e-03  2.1100e-04  2.9939e-03  4.7685e-03\n",
       " 1.2643e-03  5.0699e-08  4.9722e-04  3.9996e-05\n",
       " 5.2811e-03  5.0108e-03  1.0838e-03  2.1759e-02\n",
       " 5.9633e-05  6.5316e-08  2.6313e-05  1.0238e-07\n",
       " 2.2266e-07  2.2526e-01  4.1593e-04  5.1156e-03\n",
       " 3.4500e-02  4.2029e-06  5.6835e-02  5.0289e-05\n",
       " 1.7100e-05  3.7606e-09  1.6313e-04  1.9589e-06\n",
       " 4.5559e-03  1.9223e-06  2.5944e-05  5.0606e-07\n",
       " 5.2031e-05  1.2179e-04  1.5099e-02  1.0343e-02\n",
       " 8.0614e-02  9.9634e-05  4.0632e-04  1.0530e-04\n",
       " 2.3257e-02  3.5221e-08  4.2363e-05  2.2070e-06\n",
       " 7.5084e-06  2.5907e-04  2.4036e-03  4.5836e-04\n",
       " 1.4087e-03  2.9965e-06  1.6471e-02  9.9954e-06\n",
       " 2.2054e-04  1.1518e-05  6.9546e-06  1.9148e-06\n",
       " 9.2644e-03  3.3262e-03  4.7337e-04  5.1870e-04\n",
       " 5.7115e-04  2.7660e-02  3.1439e-03  3.1318e-03\n",
       " 2.8264e-04  1.8343e-03  4.5869e-04  4.2355e-02\n",
       " 1.7195e-05  2.3563e-03  7.9596e-03  7.5555e-02\n",
       " 6.8581e-07  3.1617e-01  2.9354e-03  5.0068e-03\n",
       " 2.2554e-05  1.2493e-02  2.4567e-04  1.2278e-01\n",
       " 7.3014e-06  6.2276e-05  2.6922e-01  1.1160e-03\n",
       " 1.1608e-04  1.1165e-02  1.1709e-02  5.3202e-02\n",
       " 5.1377e-04  1.0199e-02  9.1116e-03  4.6632e-02\n",
       " 1.1142e-01  2.6370e-07  2.9000e-05  6.5577e-09\n",
       " 1.4508e-04  2.7166e-03  1.0623e-02  7.8849e-02\n",
       " 9.1039e-02  1.2979e-04  2.3989e-04  8.6825e-04\n",
       " 2.8533e-04  6.7501e-03  1.6034e-03  1.0156e-01\n",
       " 1.6552e-03  4.9282e-03  8.0565e-03  7.7449e-03\n",
       " 4.1518e-04  9.6336e-02  2.3224e-03  6.1569e-04\n",
       " 6.1228e-04  1.8164e-08  1.8743e-03  3.9832e-07\n",
       " 4.2614e-04  1.4963e-07  4.2571e-03  1.1681e-04\n",
       " 1.5647e-07  2.4386e-06  8.1939e-02  1.4254e-05\n",
       " 1.1433e-01  1.6475e-04  1.3382e-03  1.7342e-03\n",
       " 2.8107e-04  4.4026e-04  1.7738e-02  1.9596e-02\n",
       " 2.6833e-07  4.7940e-05  3.7654e-05  2.7485e-06\n",
       " 5.3939e-04  3.1326e-02  1.4862e-03  5.7515e-02\n",
       " 1.2079e-03  6.8356e-04  6.6451e-03  1.0797e-02\n",
       " 1.0387e-01  2.6588e-05  2.2365e-05  4.5982e-06\n",
       " 1.3992e-03  5.6741e-04  1.1174e-02  7.7869e-04\n",
       " 7.8009e-04  1.2412e-03  2.3230e-04  3.4582e-03\n",
       " 1.5115e-03  1.2668e-04  3.7725e-04  1.7944e-04\n",
       " 1.8151e-05  1.8890e-03  1.6196e-02  1.6066e-01\n",
       "[torch.FloatTensor of size 64x10]"
      ]
     },
     "execution_count": 30,
     "metadata": {},
     "output_type": "execute_result"
    }
   ],
   "source": [
    "preds = net2(vxmb).exp(); \n",
    "preds"
   ]
  },
  {
   "cell_type": "code",
   "execution_count": 31,
   "metadata": {
    "collapsed": true
   },
   "outputs": [
    {
     "data": {
      "text/plain": [
       "Variable containing:\n",
       " 8\n",
       " 8\n",
       " 6\n",
       " 8\n",
       " 8\n",
       " 3\n",
       " 5\n",
       " 6\n",
       " 4\n",
       " 1\n",
       " 5\n",
       " 7\n",
       " 2\n",
       " 8\n",
       " 3\n",
       " 4\n",
       " 6\n",
       " 2\n",
       " 2\n",
       " 0\n",
       " 5\n",
       " 9\n",
       " 3\n",
       " 4\n",
       " 4\n",
       " 2\n",
       " 7\n",
       " 5\n",
       " 2\n",
       " 0\n",
       " 3\n",
       " 6\n",
       " 6\n",
       " 2\n",
       " 1\n",
       " 0\n",
       " 0\n",
       " 1\n",
       " 9\n",
       " 9\n",
       " 7\n",
       " 9\n",
       " 8\n",
       " 9\n",
       " 4\n",
       " 6\n",
       " 9\n",
       " 6\n",
       " 9\n",
       " 1\n",
       " 7\n",
       " 2\n",
       " 2\n",
       " 8\n",
       " 6\n",
       " 5\n",
       " 0\n",
       " 9\n",
       " 3\n",
       " 6\n",
       " 1\n",
       " 2\n",
       " 0\n",
       " 9\n",
       "[torch.LongTensor of size 64]"
      ]
     },
     "execution_count": 31,
     "metadata": {},
     "output_type": "execute_result"
    }
   ],
   "source": [
    "preds.max(1)[1]"
   ]
  },
  {
   "cell_type": "code",
   "execution_count": 32,
   "metadata": {},
   "outputs": [
    {
     "data": {
      "image/png": "[encoded data removed]",
      "text/plain": [
       "<Figure size 864x432 with 4 Axes>"
      ]
     },
     "metadata": {
      "needs_background": "light"
     },
     "output_type": "display_data"
    }
   ],
   "source": [
    "preds = predict(net2, md.val_dl).argmax(1)\n",
    "plots(x_imgs[:4], titles=preds[:4])"
   ]
  },
  {
   "cell_type": "markdown",
   "metadata": {},
   "source": [
    "#### Numpy Broadcasting"
   ]
  },
  {
   "cell_type": "code",
   "execution_count": 33,
   "metadata": {},
   "outputs": [],
   "source": [
    "a = np.array([[10,20,30],\n",
    "              [10,20,30],\n",
    "              [10,20,30]])"
   ]
  },
  {
   "cell_type": "code",
   "execution_count": 34,
   "metadata": {},
   "outputs": [],
   "source": [
    "b = np.array([10,20,30])"
   ]
  },
  {
   "cell_type": "code",
   "execution_count": 35,
   "metadata": {},
   "outputs": [
    {
     "data": {
      "text/plain": [
       "array([[20, 40, 60],\n",
       "       [20, 40, 60],\n",
       "       [20, 40, 60]])"
      ]
     },
     "execution_count": 35,
     "metadata": {},
     "output_type": "execute_result"
    }
   ],
   "source": [
    "a+b"
   ]
  },
  {
   "cell_type": "code",
   "execution_count": 36,
   "metadata": {},
   "outputs": [
    {
     "data": {
      "text/plain": [
       "array([[20, 40, 60],\n",
       "       [20, 40, 60],\n",
       "       [20, 40, 60]])"
      ]
     },
     "execution_count": 36,
     "metadata": {},
     "output_type": "execute_result"
    }
   ],
   "source": [
    "a + b.T"
   ]
  },
  {
   "cell_type": "code",
   "execution_count": 37,
   "metadata": {},
   "outputs": [
    {
     "data": {
      "text/plain": [
       "array([10, 20, 30])"
      ]
     },
     "execution_count": 37,
     "metadata": {},
     "output_type": "execute_result"
    }
   ],
   "source": [
    "b.T"
   ]
  },
  {
   "cell_type": "code",
   "execution_count": 38,
   "metadata": {},
   "outputs": [
    {
     "data": {
      "text/plain": [
       "array([[20, 30, 40],\n",
       "       [30, 40, 50],\n",
       "       [40, 50, 60]])"
      ]
     },
     "execution_count": 38,
     "metadata": {},
     "output_type": "execute_result"
    }
   ],
   "source": [
    "a + np.expand_dims(b, 1)"
   ]
  },
  {
   "cell_type": "code",
   "execution_count": 39,
   "metadata": {},
   "outputs": [
    {
     "data": {
      "text/plain": [
       "array([[10, 20, 30],\n",
       "       [10, 20, 30],\n",
       "       [10, 20, 30]])"
      ]
     },
     "execution_count": 39,
     "metadata": {},
     "output_type": "execute_result"
    }
   ],
   "source": [
    "np.broadcast_to(b[None,:] , (3,3))"
   ]
  },
  {
   "cell_type": "code",
   "execution_count": 40,
   "metadata": {},
   "outputs": [
    {
     "data": {
      "text/plain": [
       "array([[10, 10, 10],\n",
       "       [20, 20, 20],\n",
       "       [30, 30, 30]])"
      ]
     },
     "execution_count": 40,
     "metadata": {},
     "output_type": "execute_result"
    }
   ],
   "source": [
    "np.broadcast_to(b[:, None] , (3,3))"
   ]
  },
  {
   "cell_type": "code",
   "execution_count": 46,
   "metadata": {},
   "outputs": [
    {
     "data": {
      "application/vnd.jupyter.widget-view+json": {
       "model_id": "f40f2ec697614da9be8e6e49227f1616",
       "version_major": 2,
       "version_minor": 0
      },
      "text/plain": [
       "HBox(children=(IntProgress(value=0, description='Epoch', max=1, style=ProgressStyle(description_width='initial…"
      ]
     },
     "metadata": {},
     "output_type": "display_data"
    },
    {
     "name": "stdout",
     "output_type": "stream",
     "text": [
      "epoch      trn_loss   val_loss   accuracy                    \n",
      "    0      2.450824   2.409142   0.91      \n",
      "\n"
     ]
    },
    {
     "data": {
      "text/plain": [
       "[array([2.40914]), 0.91]"
      ]
     },
     "execution_count": 46,
     "metadata": {},
     "output_type": "execute_result"
    }
   ],
   "source": [
    "class LogReg(nn.Module):\n",
    "    def __init__(self):\n",
    "        super().__init__()\n",
    "        self.l1_w = get_weights(28*28, 10)\n",
    "        self.l1_b = get_weights(10)\n",
    "        \n",
    "    def forward(self, x):\n",
    "        x = x.view(x.size(0), -1)\n",
    "        x = torch.matmul(x, self.l1_w) + self.l1_b\n",
    "        x = torch.log(torch.exp(x)/(torch.exp(x).sum(dim=0)))\n",
    "        return x\n",
    "    \n",
    "net2 = LogReg()\n",
    "opt = optim.Adam(net2.parameters())\n",
    "\n",
    "fit(net2, md, n_epochs=1, crit=loss, opt=opt, metrics=metrics)"
   ]
  },
  {
   "cell_type": "code",
   "execution_count": 48,
   "metadata": {},
   "outputs": [],
   "source": [
    "net2 = LogReg()\n",
    "loss = nn.NLLLoss()\n",
    "learning_rate = 1e-3\n",
    "optimizer = optim.Adam(net2.parameters(), lr=learning_rate)"
   ]
  },
  {
   "cell_type": "code",
   "execution_count": 49,
   "metadata": {},
   "outputs": [],
   "source": [
    "dl = iter(md.trn_dl)"
   ]
  },
  {
   "cell_type": "code",
   "execution_count": 50,
   "metadata": {},
   "outputs": [],
   "source": [
    "xt, yt = next(dl)"
   ]
  },
  {
   "cell_type": "code",
   "execution_count": 51,
   "metadata": {},
   "outputs": [],
   "source": [
    "y_pred = net2(Variable(xt))"
   ]
  },
  {
   "cell_type": "code",
   "execution_count": 53,
   "metadata": {},
   "outputs": [
    {
     "name": "stdout",
     "output_type": "stream",
     "text": [
      "Variable containing:\n",
      " 4.1507\n",
      "[torch.FloatTensor of size 1]\n",
      "\n"
     ]
    }
   ],
   "source": [
    "l = loss(y_pred, Variable(yt))\n",
    "print(l)"
   ]
  },
  {
   "cell_type": "code",
   "execution_count": 54,
   "metadata": {},
   "outputs": [
    {
     "data": {
      "text/plain": [
       "0.15625"
      ]
     },
     "execution_count": 54,
     "metadata": {},
     "output_type": "execute_result"
    }
   ],
   "source": [
    "np.mean(to_np(y_pred).argmax(axis=1) == to_np(yt))"
   ]
  },
  {
   "cell_type": "code",
   "execution_count": 55,
   "metadata": {},
   "outputs": [],
   "source": [
    "optimizer.zero_grad()\n",
    "l.backward()\n",
    "optimizer.step()"
   ]
  },
  {
   "cell_type": "code",
   "execution_count": 56,
   "metadata": {},
   "outputs": [
    {
     "data": {
      "text/plain": [
       "0.59375"
      ]
     },
     "execution_count": 56,
     "metadata": {},
     "output_type": "execute_result"
    }
   ],
   "source": [
    "xt, yt = next(dl)\n",
    "y_pred = net2(Variable(xt))\n",
    "l = loss(y_pred, Variable(yt))\n",
    "np.mean(to_np(y_pred).argmax(axis=1) == to_np(yt))"
   ]
  },
  {
   "cell_type": "markdown",
   "metadata": {},
   "source": [
    "Accuracy changed from 15.6% to 59.3%"
   ]
  },
  {
   "cell_type": "code",
   "execution_count": 60,
   "metadata": {},
   "outputs": [
    {
     "name": "stdout",
     "output_type": "stream",
     "text": [
      "loss:  2.652348041534424 \t accuracy:  0.859375\n",
      "loss:  2.508136510848999 \t accuracy:  0.875\n",
      "loss:  2.550856113433838 \t accuracy:  0.875\n",
      "loss:  2.473738670349121 \t accuracy:  0.828125\n",
      "loss:  2.673726797103882 \t accuracy:  0.828125\n",
      "loss:  2.5971269607543945 \t accuracy:  0.921875\n",
      "loss:  2.6513471603393555 \t accuracy:  0.78125\n",
      "loss:  2.7475571632385254 \t accuracy:  0.796875\n",
      "loss:  2.583475112915039 \t accuracy:  0.796875\n",
      "loss:  2.478987693786621 \t accuracy:  0.875\n"
     ]
    }
   ],
   "source": [
    "for t in range(100):\n",
    "    xt, yt = next(dl)\n",
    "    y_pred = net2(Variable(xt))\n",
    "    l = loss(y_pred, Variable(yt))\n",
    "    \n",
    "    if t % 10 == 0:\n",
    "        accuracy = np.mean(to_np(y_pred).argmax(axis=1) == to_np(yt))\n",
    "        print(\"loss: \", l.data[0], \"\\t accuracy: \", accuracy)\n",
    "\n",
    "    optimizer.zero_grad()\n",
    "    l.backward()\n",
    "    optimizer.step()"
   ]
  },
  {
   "cell_type": "code",
   "execution_count": 59,
   "metadata": {},
   "outputs": [],
   "source": [
    "optimizer = optim.Adam(net2.parameters(), lr=1e-6)"
   ]
  },
  {
   "cell_type": "markdown",
   "metadata": {},
   "source": [
    "Manually define optimizer step function as: <br>\n",
    "w.data -= w.grad.data * lr<br>\n",
    "b.data -= b.grad.data * lr<br>\n",
    "to get SGD (without momentum)        "
   ]
  }
 ],
 "metadata": {
  "kernelspec": {
   "display_name": "Python 3",
   "language": "python",
   "name": "python3"
  },
  "language_info": {
   "codemirror_mode": {
    "name": "ipython",
    "version": 3
   },
   "file_extension": ".py",
   "mimetype": "text/x-python",
   "name": "python",
   "nbconvert_exporter": "python",
   "pygments_lexer": "ipython3",
   "version": "3.6.4"
  }
 },
 "nbformat": 4,
 "nbformat_minor": 2
}
