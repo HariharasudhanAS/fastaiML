{
 "cells": [
  {
   "cell_type": "code",
   "execution_count": 2,
   "metadata": {},
   "outputs": [
    {
     "name": "stdout",
     "output_type": "stream",
     "text": [
      "The autoreload extension is already loaded. To reload it, use:\n",
      "  %reload_ext autoreload\n"
     ]
    }
   ],
   "source": [
    "%load_ext autoreload\n",
    "%matplotlib inline\n",
    "\n",
    "from fastai.imports import *\n",
    "from fastai.structured import *\n",
    "from sklearn import metrics\n",
    "from sklearn.ensemble import RandomForestClassifier, RandomForestRegressor\n",
    "from IPython.display import display\n",
    "import warnings\n",
    "warnings.filterwarnings(\"ignore\")\n",
    "\n",
    "import feather"
   ]
  },
  {
   "cell_type": "code",
   "execution_count": 3,
   "metadata": {},
   "outputs": [],
   "source": [
    "df_raw = pd.read_csv('./Train.csv', low_memory=False, parse_dates=['saledate'])\n",
    "add_datepart(df_raw, 'saledate')\n",
    "train_cats(df_raw)\n",
    "df_raw.UsageBand.cat.set_categories(['High', 'Medium', 'Low'], ordered=True, inplace=True)\n",
    "df_raw.UsageBand = df_raw.UsageBand.cat.codes\n",
    "df, y, nas = proc_df(df_raw, 'SalePrice')"
   ]
  },
  {
   "cell_type": "code",
   "execution_count": 5,
   "metadata": {},
   "outputs": [],
   "source": [
    "def split_vals(a, n): return a[:n].copy(), a[n:].copy()\n",
    "\n",
    "n_valid = 12000\n",
    "n_train = len(df) - n_valid\n",
    "X_train, X_valid = split_vals(df, n_train)\n",
    "y_train, y_valid = split_vals(y, n_train)\n",
    "raw_train, raw_valid = split_vals(df_raw, n_train)"
   ]
  },
  {
   "cell_type": "code",
   "execution_count": 6,
   "metadata": {},
   "outputs": [],
   "source": [
    "x_sub = X_train[['YearMade', 'MachineHoursCurrentMeter']]"
   ]
  },
  {
   "cell_type": "markdown",
   "metadata": {},
   "source": [
    "#### Defining our Random forest:\n",
    "- Input : X [training data], y [Value to be predicted], no_of_estimators[trees], min_no_leaf[Number of values in leaf node], max_features [Fraction of features to be considered at each split], oob_score [Out-of-bag error], bootstrap [On/Off]\n",
    "- Properties: r^2 score w/wo OOB score, predict score"
   ]
  },
  {
   "cell_type": "code",
   "execution_count": 13,
   "metadata": {},
   "outputs": [],
   "source": [
    "class RForest():\n",
    "    def __init__(self, X, y, no_of_estimators, sample_sz, min_no_leaf=1):\n",
    "        self.X = X\n",
    "        self.y = y\n",
    "        self.min_no_leaf = min_no_leaf\n",
    "        self.sample_sz = sample_sz\n",
    "        self.estimators = [ self.create_estimator() for i in range(no_of_estimators) ]\n",
    "        \n",
    "    def create_estimator(self):\n",
    "        indexes = np.random.permutation(len(self.y))[:self.sample_sz]\n",
    "        return Estimator(self.X.iloc[indexes], self.y[indexes],\n",
    "                         indexes = np.array(range(self.sample_sz)), min_no_leaf = self.min_no_leaf)\n",
    "    \n",
    "    def predict(self, X):\n",
    "        preds = np.mean([e.predict(X) for e in self.estimators], axis = 0)\n",
    "        return preds\n",
    " \n",
    "def std_agg(count, s1, s2) : return math.sqrt((s2/count) - (s1/count)**2)"
   ]
  },
  {
   "cell_type": "code",
   "execution_count": 50,
   "metadata": {
    "scrolled": true
   },
   "outputs": [],
   "source": [
    "class Estimator():\n",
    "    def __init__(self, X, y, indexes, min_no_leaf=5):\n",
    "        self.X = X\n",
    "        self.y = y\n",
    "        self.min_no_leaf = min_no_leaf\n",
    "        self.indexes = indexes\n",
    "        self.no_rows = len(indexes)\n",
    "        self.no_cols = X.shape[1]\n",
    "        self.val = np.mean(y[indexes])\n",
    "        self.score = float('inf')\n",
    "        self.find_split()\n",
    "        \n",
    "    def find_split(self):\n",
    "        for i in range(self.no_cols) : self.find_better_split(i)\n",
    "        if self.score == float('inf'): return\n",
    "        X = self.split_col\n",
    "        lhs = np.nonzero(X<=self.split)[0]\n",
    "        rhs = np.nonzero(X>self.split)[0]\n",
    "        self.lhs = Estimator(self.X, self.y, self.indexes[lhs])\n",
    "        self.rhs = Estimator(self.X, self.y, self.indexes[rhs])\n",
    "        \n",
    "    def find_better_split(self, var_idx):\n",
    "        X, y = self.X.values[self.indexes, var_idx], self.y[self.indexes]\n",
    "        sort_idx = np.argsort(X)\n",
    "        sort_y, sort_x = y[sort_idx], X[sort_idx]\n",
    "        lhs_cnt, lhs_sum, lhs_sum2 = 0,0.0,0.0\n",
    "        rhs_cnt, rhs_sum, rhs_sum2 = self.no_rows, sort_y.sum(), (sort_y**2).sum()\n",
    "        \n",
    "        for i in range(0, self.no_rows-self.min_no_leaf):\n",
    "            xi, yi = sort_x[i], sort_y[i]\n",
    "            lhs_cnt += 1; rhs_cnt -= 1\n",
    "            lhs_sum += yi; rhs_sum -= yi\n",
    "            lhs_sum2 += yi**2; rhs_sum2 -= yi**2\n",
    "            if i<self.min_no_leaf-1 or xi==sort_x[i+1]:\n",
    "                continue\n",
    "                \n",
    "            lhs_std = std_agg(lhs_cnt, lhs_sum, lhs_sum2)\n",
    "            rhs_std = std_agg(rhs_cnt, rhs_sum, rhs_sum2)\n",
    "            curr_score = lhs_std*lhs_cnt + rhs_std*rhs_cnt\n",
    "            if curr_score<self.score: \n",
    "                self.var_idx,self.score,self.split = var_idx,curr_score,xi\n",
    "        \n",
    "    @property\n",
    "    def split_name(self): return self.X.columns[self.var_idx]\n",
    "    \n",
    "    @property\n",
    "    def split_col(self): return self.X.values[self.indexes,self.var_idx]\n",
    "\n",
    "    @property\n",
    "    def is_leaf(self): return self.score == float('inf')\n",
    "    \n",
    "    def __repr__(self):\n",
    "        s = f'n: {self.n}; val:{self.val}'\n",
    "        if not self.is_leaf:\n",
    "            s += f'; score:{self.score}; split:{self.split}; var:{self.split_name}'\n",
    "        return s\n",
    "\n",
    "    def predict(self, x):\n",
    "        return np.array([self.predict_row(xi) for xi in x])\n",
    "\n",
    "    def predict_row(self, xi):\n",
    "        if self.is_leaf: return self.val\n",
    "        t = self.lhs if xi[self.var_idx]<=self.split else self.rhs\n",
    "        return t.predict_row(xi)"
   ]
  },
  {
   "cell_type": "code",
   "execution_count": 26,
   "metadata": {},
   "outputs": [],
   "source": [
    "cols = ['MachineID', 'YearMade', 'MachineHoursCurrentMeter', 'ProductSize', 'Enclosure',\n",
    "        'Coupler_System', 'saleYear']"
   ]
  },
  {
   "cell_type": "code",
   "execution_count": 55,
   "metadata": {},
   "outputs": [],
   "source": [
    "ens = RForest(X_train[cols], y_train, 5, 1000)"
   ]
  },
  {
   "cell_type": "code",
   "execution_count": 56,
   "metadata": {},
   "outputs": [],
   "source": [
    "preds = ens.predict(X_valid[cols].values)"
   ]
  },
  {
   "cell_type": "code",
   "execution_count": 57,
   "metadata": {},
   "outputs": [
    {
     "data": {
      "text/plain": [
       "0.5725551075540652"
      ]
     },
     "execution_count": 57,
     "metadata": {},
     "output_type": "execute_result"
    }
   ],
   "source": [
    "metrics.r2_score(y_valid, preds)"
   ]
  },
  {
   "cell_type": "code",
   "execution_count": null,
   "metadata": {},
   "outputs": [],
   "source": []
  }
 ],
 "metadata": {
  "kernelspec": {
   "display_name": "Python 3",
   "language": "python",
   "name": "python3"
  },
  "language_info": {
   "codemirror_mode": {
    "name": "ipython",
    "version": 3
   },
   "file_extension": ".py",
   "mimetype": "text/x-python",
   "name": "python",
   "nbconvert_exporter": "python",
   "pygments_lexer": "ipython3",
   "version": "3.6.4"
  }
 },
 "nbformat": 4,
 "nbformat_minor": 2
}
